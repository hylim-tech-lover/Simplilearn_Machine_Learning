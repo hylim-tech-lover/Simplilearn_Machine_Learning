{
  "nbformat": 4,
  "nbformat_minor": 0,
  "metadata": {
    "kernelspec": {
      "display_name": "Python 3",
      "language": "python",
      "name": "python3"
    },
    "language_info": {
      "codemirror_mode": {
        "name": "ipython",
        "version": 3
      },
      "file_extension": ".py",
      "mimetype": "text/x-python",
      "name": "python",
      "nbconvert_exporter": "python",
      "pygments_lexer": "ipython3",
      "version": "3.7.0"
    },
    "colab": {
      "name": "Supervised_Learning_Classification.ipynb",
      "provenance": []
    }
  },
  "cells": [
    {
      "cell_type": "code",
      "metadata": {
        "collapsed": true,
        "id": "56X2HNA03QXg"
      },
      "source": [
        "import pandas as pd\n",
        "import matplotlib.pyplot as plot\n",
        "%matplotlib inline"
      ],
      "execution_count": 1,
      "outputs": []
    },
    {
      "cell_type": "code",
      "metadata": {
        "collapsed": true,
        "id": "ULqBiWwZ3QXj"
      },
      "source": [
        "df = pd.read_csv(\"run_or_walk.csv\")"
      ],
      "execution_count": 2,
      "outputs": []
    },
    {
      "cell_type": "code",
      "metadata": {
        "colab": {
          "base_uri": "https://localhost:8080/"
        },
        "id": "XmMgPbZY3QXk",
        "outputId": "803d3e6c-ebbb-4df5-9b29-43473750ee52"
      },
      "source": [
        "df.info()"
      ],
      "execution_count": 3,
      "outputs": [
        {
          "output_type": "stream",
          "name": "stdout",
          "text": [
            "<class 'pandas.core.frame.DataFrame'>\n",
            "RangeIndex: 88588 entries, 0 to 88587\n",
            "Data columns (total 11 columns):\n",
            " #   Column          Non-Null Count  Dtype  \n",
            "---  ------          --------------  -----  \n",
            " 0   date            88588 non-null  object \n",
            " 1   time            88588 non-null  object \n",
            " 2   username        88588 non-null  object \n",
            " 3   wrist           88588 non-null  int64  \n",
            " 4   activity        88588 non-null  int64  \n",
            " 5   acceleration_x  88588 non-null  float64\n",
            " 6   acceleration_y  88588 non-null  float64\n",
            " 7   acceleration_z  88588 non-null  float64\n",
            " 8   gyro_x          88588 non-null  float64\n",
            " 9   gyro_y          88588 non-null  float64\n",
            " 10  gyro_z          88588 non-null  float64\n",
            "dtypes: float64(6), int64(2), object(3)\n",
            "memory usage: 7.4+ MB\n"
          ]
        }
      ]
    },
    {
      "cell_type": "code",
      "metadata": {
        "colab": {
          "base_uri": "https://localhost:8080/"
        },
        "id": "vlg8C1Km3QXl",
        "outputId": "6367c5a9-4f87-4107-9d2f-032518c72636"
      },
      "source": [
        "# Load column of dataframe\n",
        "df.columns"
      ],
      "execution_count": 4,
      "outputs": [
        {
          "output_type": "execute_result",
          "data": {
            "text/plain": [
              "Index(['date', 'time', 'username', 'wrist', 'activity', 'acceleration_x',\n",
              "       'acceleration_y', 'acceleration_z', 'gyro_x', 'gyro_y', 'gyro_z'],\n",
              "      dtype='object')"
            ]
          },
          "metadata": {},
          "execution_count": 4
        }
      ]
    },
    {
      "cell_type": "code",
      "metadata": {
        "collapsed": true,
        "id": "E_DCwP1m3QXl"
      },
      "source": [
        "# Split whole data into training and testing data\n",
        "from sklearn.model_selection import train_test_split\n",
        "# Slice object. iloc [<row_value index>, <column value index>]\n",
        "# X = acceleration_x,y,z + gyro_x,y,z / y = activity\n",
        "X, y = df.iloc[:, 5:].values,df.iloc[:, 4].values\n",
        "X_train, X_test, y_train, y_test = train_test_split(X, y, test_size=0.2, random_state=1)"
      ],
      "execution_count": 5,
      "outputs": []
    },
    {
      "cell_type": "code",
      "metadata": {
        "colab": {
          "base_uri": "https://localhost:8080/"
        },
        "id": "Wz9yqSDA3QXm",
        "outputId": "99074ef5-b216-4eda-d3bf-eccbe80146ab"
      },
      "source": [
        "print(X_train.shape)\n",
        "print(y_test[0:10])"
      ],
      "execution_count": 11,
      "outputs": [
        {
          "output_type": "stream",
          "name": "stdout",
          "text": [
            "(70870, 6)\n",
            "(17718,)\n",
            "[1 0 0 1 1 1 0 1 1 1]\n"
          ]
        }
      ]
    },
    {
      "cell_type": "code",
      "metadata": {
        "collapsed": true,
        "id": "GASU_cno3QXm"
      },
      "source": [
        "# Classifier name\n",
        "from sklearn.naive_bayes import GaussianNB\n",
        "classifier = GaussianNB()"
      ],
      "execution_count": 7,
      "outputs": []
    },
    {
      "cell_type": "code",
      "metadata": {
        "colab": {
          "base_uri": "https://localhost:8080/"
        },
        "id": "6KzG3t253QXn",
        "outputId": "2342ed97-7f91-4a2f-e807-b3b0af994ab3"
      },
      "source": [
        "# Train classifier using data \n",
        "classifier.fit(X_train,y_train)"
      ],
      "execution_count": 8,
      "outputs": [
        {
          "output_type": "execute_result",
          "data": {
            "text/plain": [
              "GaussianNB()"
            ]
          },
          "metadata": {},
          "execution_count": 8
        }
      ]
    },
    {
      "cell_type": "code",
      "metadata": {
        "collapsed": true,
        "id": "s4qKZHeQ3QXn"
      },
      "source": [
        "y_predict = classifier.predict(X_test)"
      ],
      "execution_count": 12,
      "outputs": []
    },
    {
      "cell_type": "code",
      "metadata": {
        "collapsed": true,
        "id": "pgT46dVp3QXo"
      },
      "source": [
        "from sklearn.metrics import accuracy_score"
      ],
      "execution_count": 13,
      "outputs": []
    },
    {
      "cell_type": "code",
      "metadata": {
        "collapsed": true,
        "id": "S1vFFxE43QXp"
      },
      "source": [
        "# Check accuracy of the classfier model\n",
        "accuracy = accuracy_score(y_predict,y_test)"
      ],
      "execution_count": 14,
      "outputs": []
    },
    {
      "cell_type": "code",
      "metadata": {
        "colab": {
          "base_uri": "https://localhost:8080/"
        },
        "id": "xyaHvd-03QXp",
        "outputId": "be54db00-e4ef-4cb0-dbe7-eb1f07447df7"
      },
      "source": [
        "print(accuracy)"
      ],
      "execution_count": 15,
      "outputs": [
        {
          "output_type": "stream",
          "name": "stdout",
          "text": [
            "0.9554690145614629\n"
          ]
        }
      ]
    },
    {
      "cell_type": "code",
      "metadata": {
        "collapsed": true,
        "id": "Ga-MvHwJ3QXp"
      },
      "source": [
        "from sklearn.metrics import confusion_matrix"
      ],
      "execution_count": 16,
      "outputs": []
    },
    {
      "cell_type": "code",
      "metadata": {
        "collapsed": true,
        "id": "XpFvXX7X3QXq"
      },
      "source": [
        "conf_mat =confusion_matrix(y_predict,y_test)"
      ],
      "execution_count": 17,
      "outputs": []
    },
    {
      "cell_type": "code",
      "metadata": {
        "colab": {
          "base_uri": "https://localhost:8080/"
        },
        "id": "yURwrmc13QXq",
        "outputId": "a140c9ac-c4fe-43bb-af99-6aba402249a5"
      },
      "source": [
        "# Use to keep track with data [true positive, false positive, false negative, true negative]\n",
        "print(conf_mat)"
      ],
      "execution_count": 18,
      "outputs": [
        {
          "output_type": "stream",
          "name": "stdout",
          "text": [
            "[[8583  699]\n",
            " [  90 8346]]\n"
          ]
        }
      ]
    },
    {
      "cell_type": "code",
      "metadata": {
        "collapsed": true,
        "id": "LWh5UEa63QXq"
      },
      "source": [
        "from sklearn.metrics import classification_report\n",
        "target_names = [\"Walk\",\"Run\"]"
      ],
      "execution_count": 19,
      "outputs": []
    },
    {
      "cell_type": "code",
      "metadata": {
        "colab": {
          "base_uri": "https://localhost:8080/"
        },
        "id": "MZ-IQp3r3QXq",
        "outputId": "c56807fe-b822-443c-e21f-b768610f20f7"
      },
      "source": [
        "print(classification_report(y_test, y_predict, target_names=target_names))"
      ],
      "execution_count": 20,
      "outputs": [
        {
          "output_type": "stream",
          "name": "stdout",
          "text": [
            "              precision    recall  f1-score   support\n",
            "\n",
            "        Walk       0.92      0.99      0.96      8673\n",
            "         Run       0.99      0.92      0.95      9045\n",
            "\n",
            "    accuracy                           0.96     17718\n",
            "   macro avg       0.96      0.96      0.96     17718\n",
            "weighted avg       0.96      0.96      0.96     17718\n",
            "\n"
          ]
        }
      ]
    },
    {
      "cell_type": "code",
      "metadata": {
        "colab": {
          "base_uri": "https://localhost:8080/"
        },
        "id": "XpMXQ_WT3QXr",
        "outputId": "b4e66381-7de5-4ec3-a180-633ddc1fe4d1"
      },
      "source": [
        "df.info()"
      ],
      "execution_count": 21,
      "outputs": [
        {
          "output_type": "stream",
          "name": "stdout",
          "text": [
            "<class 'pandas.core.frame.DataFrame'>\n",
            "RangeIndex: 88588 entries, 0 to 88587\n",
            "Data columns (total 11 columns):\n",
            " #   Column          Non-Null Count  Dtype  \n",
            "---  ------          --------------  -----  \n",
            " 0   date            88588 non-null  object \n",
            " 1   time            88588 non-null  object \n",
            " 2   username        88588 non-null  object \n",
            " 3   wrist           88588 non-null  int64  \n",
            " 4   activity        88588 non-null  int64  \n",
            " 5   acceleration_x  88588 non-null  float64\n",
            " 6   acceleration_y  88588 non-null  float64\n",
            " 7   acceleration_z  88588 non-null  float64\n",
            " 8   gyro_x          88588 non-null  float64\n",
            " 9   gyro_y          88588 non-null  float64\n",
            " 10  gyro_z          88588 non-null  float64\n",
            "dtypes: float64(6), int64(2), object(3)\n",
            "memory usage: 7.4+ MB\n"
          ]
        }
      ]
    },
    {
      "cell_type": "code",
      "metadata": {
        "id": "zpvq7DIX3QXr"
      },
      "source": [
        "from sklearn.model_selection import train_test_split\n",
        "# Slice object. iloc [<row_value index>, <column value index>]\n",
        "# X = acceleration_x,y,z / y = activity\n",
        "X, y = df.iloc[:, [5,6,7]].values,df.iloc[:, 4].values\n",
        "X_train, X_test, y_train, y_test = train_test_split(X, y, test_size=0.2, random_state=1)"
      ],
      "execution_count": 38,
      "outputs": []
    },
    {
      "cell_type": "code",
      "metadata": {
        "colab": {
          "base_uri": "https://localhost:8080/"
        },
        "id": "toqi4cng3QXr",
        "outputId": "efdd0a9b-c0e1-4f11-881c-aa9d3ba03a8e"
      },
      "source": [
        "classifier.fit(X_train,y_train)\n",
        "y_predict = classifier.predict(X_test)\n",
        "accuracy = accuracy_score(y_predict,y_test)\n",
        "print(accuracy)"
      ],
      "execution_count": 39,
      "outputs": [
        {
          "output_type": "stream",
          "name": "stdout",
          "text": [
            "0.9565978101365843\n"
          ]
        }
      ]
    },
    {
      "cell_type": "code",
      "metadata": {
        "colab": {
          "base_uri": "https://localhost:8080/"
        },
        "id": "3gir7Qsa3QXs",
        "outputId": "966f5195-7aa2-4dad-db84-2b9e93d11253"
      },
      "source": [
        "# Use to keep track with data [true positive, false positive, false negative, true negative]\n",
        "conf_mat =confusion_matrix(y_predict,y_test)\n",
        "print(conf_mat)"
      ],
      "execution_count": 40,
      "outputs": [
        {
          "output_type": "stream",
          "name": "stdout",
          "text": [
            "[[8610  706]\n",
            " [  63 8339]]\n"
          ]
        }
      ]
    },
    {
      "cell_type": "code",
      "metadata": {
        "collapsed": true,
        "id": "OZ3VJKPS3QXs"
      },
      "source": [
        "from sklearn.model_selection import train_test_split\n",
        "# Slice object. iloc [<row_value index>, <column value index>]\n",
        "# X = gyro_x,y,z / y = activity\n",
        "X, y = df.iloc[:, [8,9,10]].values,df.iloc[:, 4].values\n",
        "X_train, X_test, y_train, y_test = train_test_split(X, y, test_size=0.2, random_state=1)"
      ],
      "execution_count": 41,
      "outputs": []
    },
    {
      "cell_type": "code",
      "metadata": {
        "collapsed": true,
        "colab": {
          "base_uri": "https://localhost:8080/"
        },
        "id": "KGm8iFU_3QXs",
        "outputId": "c1066662-26fa-4078-96a7-68a5b86baf59"
      },
      "source": [
        "classifier.fit(X_train,y_train)\n",
        "y_predict = classifier.predict(X_test)\n",
        "accuracy = accuracy_score(y_predict,y_test)\n",
        "print(accuracy)"
      ],
      "execution_count": 42,
      "outputs": [
        {
          "output_type": "stream",
          "name": "stdout",
          "text": [
            "0.6475335816683598\n"
          ]
        }
      ]
    },
    {
      "cell_type": "code",
      "metadata": {
        "colab": {
          "base_uri": "https://localhost:8080/"
        },
        "id": "KgTGqaDT9f70",
        "outputId": "f7f606b4-ebb1-4450-f5dd-d7c1716b8ea8"
      },
      "source": [
        "# Use to keep track with data [true positive, false positive, false negative, true negative]\n",
        "conf_mat =confusion_matrix(y_predict,y_test)\n",
        "print(conf_mat)"
      ],
      "execution_count": 43,
      "outputs": [
        {
          "output_type": "stream",
          "name": "stdout",
          "text": [
            "[[6528 4100]\n",
            " [2145 4945]]\n"
          ]
        }
      ]
    },
    {
      "cell_type": "markdown",
      "metadata": {
        "id": "uCs-WqwL-k0T"
      },
      "source": [
        "We could conclude that gyro parameter is a less accurate classifier parameter used by classifier model training compare to acceleration parameter as shown in accuracy and confusion matrix above."
      ]
    }
  ]
}