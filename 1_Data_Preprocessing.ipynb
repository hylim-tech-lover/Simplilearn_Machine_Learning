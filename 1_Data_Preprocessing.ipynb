{
  "nbformat": 4,
  "nbformat_minor": 0,
  "metadata": {
    "kernelspec": {
      "display_name": "Python 3",
      "language": "python",
      "name": "python3"
    },
    "language_info": {
      "codemirror_mode": {
        "name": "ipython",
        "version": 3
      },
      "file_extension": ".py",
      "mimetype": "text/x-python",
      "name": "python",
      "nbconvert_exporter": "python",
      "pygments_lexer": "ipython3",
      "version": "3.7.0"
    },
    "colab": {
      "name": "Data Preprocessing.ipynb",
      "provenance": []
    }
  },
  "cells": [
    {
      "cell_type": "code",
      "metadata": {
        "colab": {
          "base_uri": "https://localhost:8080/"
        },
        "id": "BQEs06pVn7A3",
        "outputId": "efbc06db-5bb4-4589-d3f7-72aba821f6e8"
      },
      "source": [
        "# Import panda library \n",
        "import pandas as pd\n",
        "# Step 1: Construct the raw data   \n",
        "raw_data = {'first_name': ['Jason', 'Molly', 'Tina', 'Jake', 'Amy'],\n",
        "        'last_name': ['Miller', 'Jacobson', \".\", 'Milner', 'Cooze'],\n",
        "        'age': [42, 52, 36, 24, 73],\n",
        "        'preTestScore': [4, 24, 31, \".\", \".\"],\n",
        "        'postTestScore': [\"25,000\", \"94,000\", 57, 62, 70]}\n",
        "# Step 2: Load into data frame of panda\n",
        "df = pd.DataFrame(raw_data, columns = ['first_name', 'last_name', 'age', 'preTestScore', 'postTestScore'])\n",
        "print(df)\n",
        "df.to_csv('project.csv')"
      ],
      "execution_count": 2,
      "outputs": [
        {
          "output_type": "stream",
          "name": "stdout",
          "text": [
            "  first_name last_name  age preTestScore postTestScore\n",
            "0      Jason    Miller   42            4        25,000\n",
            "1      Molly  Jacobson   52           24        94,000\n",
            "2       Tina         .   36           31            57\n",
            "3       Jake    Milner   24            .            62\n",
            "4        Amy     Cooze   73            .            70\n"
          ]
        }
      ]
    },
    {
      "cell_type": "code",
      "metadata": {
        "colab": {
          "base_uri": "https://localhost:8080/"
        },
        "id": "CNYYpTp1n7A6",
        "outputId": "186bb1bb-d21f-4f4b-e7fa-89036785c6fc"
      },
      "source": [
        "# Step 3: Load csv data into data frame of panda\n",
        "df = pd.read_csv('project.csv')\n",
        "print(df)"
      ],
      "execution_count": 3,
      "outputs": [
        {
          "output_type": "stream",
          "name": "stdout",
          "text": [
            "   Unnamed: 0 first_name last_name  age preTestScore postTestScore\n",
            "0           0      Jason    Miller   42            4        25,000\n",
            "1           1      Molly  Jacobson   52           24        94,000\n",
            "2           2       Tina         .   36           31            57\n",
            "3           3       Jake    Milner   24            .            62\n",
            "4           4        Amy     Cooze   73            .            70\n"
          ]
        }
      ]
    },
    {
      "cell_type": "code",
      "metadata": {
        "colab": {
          "base_uri": "https://localhost:8080/"
        },
        "id": "twFTsOnMn7A7",
        "outputId": "0aaadab9-f8df-4182-cf5d-87d578df17b9"
      },
      "source": [
        "# Step 4: Load csv data without column heading into data frame of panda\n",
        "df = pd.read_csv('project.csv', header=None)\n",
        "print(df)"
      ],
      "execution_count": 4,
      "outputs": [
        {
          "output_type": "stream",
          "name": "stdout",
          "text": [
            "     0           1          2    3             4              5\n",
            "0  NaN  first_name  last_name  age  preTestScore  postTestScore\n",
            "1  0.0       Jason     Miller   42             4         25,000\n",
            "2  1.0       Molly   Jacobson   52            24         94,000\n",
            "3  2.0        Tina          .   36            31             57\n",
            "4  3.0        Jake     Milner   24             .             62\n",
            "5  4.0         Amy      Cooze   73             .             70\n"
          ]
        }
      ]
    },
    {
      "cell_type": "code",
      "metadata": {
        "colab": {
          "base_uri": "https://localhost:8080/"
        },
        "id": "tE8Nx3Fgn7A8",
        "outputId": "e147cf64-e6cd-4ea5-cd5c-810fa6ecc3d5"
      },
      "source": [
        "# Step 5: Load csv data with two index columns, namely, ‘First Name’ and ‘Last Name’\n",
        "df = pd.read_csv('project.csv', index_col=['First Name', 'Last Name'], names=['UID', 'First Name', 'Last Name', 'Age', 'Pre-Test Score', 'Post-Test Score'])\n",
        "print(df)"
      ],
      "execution_count": 5,
      "outputs": [
        {
          "output_type": "stream",
          "name": "stdout",
          "text": [
            "                      UID  Age Pre-Test Score Post-Test Score\n",
            "First Name Last Name                                         \n",
            "first_name last_name  NaN  age   preTestScore   postTestScore\n",
            "Jason      Miller     0.0   42              4          25,000\n",
            "Molly      Jacobson   1.0   52             24          94,000\n",
            "Tina       .          2.0   36             31              57\n",
            "Jake       Milner     3.0   24              .              62\n",
            "Amy        Cooze      4.0   73              .              70\n"
          ]
        }
      ]
    },
    {
      "cell_type": "code",
      "metadata": {
        "colab": {
          "base_uri": "https://localhost:8080/"
        },
        "id": "pFp6jsZpn7A8",
        "outputId": "2128a110-4db6-444b-c238-7c8ea7c15b0f"
      },
      "source": [
        "# Step 6: Check for empty field and label with False and True \n",
        "df = pd.read_csv('project.csv', na_values=['.'])\n",
        "print(pd.isnull(df))"
      ],
      "execution_count": 6,
      "outputs": [
        {
          "output_type": "stream",
          "name": "stdout",
          "text": [
            "   Unnamed: 0  first_name  last_name    age  preTestScore  postTestScore\n",
            "0       False       False      False  False         False          False\n",
            "1       False       False      False  False         False          False\n",
            "2       False       False       True  False         False          False\n",
            "3       False       False      False  False          True          False\n",
            "4       False       False      False  False          True          False\n"
          ]
        }
      ]
    },
    {
      "cell_type": "code",
      "metadata": {
        "colab": {
          "base_uri": "https://localhost:8080/"
        },
        "id": "4Szb4IGkn7A9",
        "outputId": "da3d70d6-87a0-4645-870e-87521f43d4d6"
      },
      "source": [
        "# Step 7: Loop data without the first 3 rows  \n",
        "df = pd.read_csv('project.csv', skiprows=3)\n",
        "print(df)"
      ],
      "execution_count": 7,
      "outputs": [
        {
          "output_type": "stream",
          "name": "stdout",
          "text": [
            "   2  Tina       .  36 31  57\n",
            "0  3  Jake  Milner  24  .  62\n",
            "1  4   Amy   Cooze  73  .  70\n"
          ]
        }
      ]
    }
  ]
}